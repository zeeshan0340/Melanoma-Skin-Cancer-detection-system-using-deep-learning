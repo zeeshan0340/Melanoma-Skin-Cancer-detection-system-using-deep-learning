{
  "nbformat": 4,
  "nbformat_minor": 0,
  "metadata": {
    "colab": {
      "provenance": [],
      "gpuType": "T4",
      "toc_visible": true
    },
    "kernelspec": {
      "name": "python3",
      "display_name": "Python 3"
    },
    "language_info": {
      "name": "python"
    },
    "accelerator": "GPU"
  },
  "cells": [
    {
      "cell_type": "code",
      "execution_count": null,
      "metadata": {
        "id": "pqWVkvzaAEDJ"
      },
      "outputs": [],
      "source": [
        "!mkdir -p ~/.kaggle\n",
        "!cp kaggle.json ~/.kaggle/"
      ]
    },
    {
      "cell_type": "code",
      "source": [
        "!kaggle datasets download -d drscarlat/melanoma"
      ],
      "metadata": {
        "colab": {
          "base_uri": "https://localhost:8080/"
        },
        "id": "NkruqpgRAqAN",
        "outputId": "ed3c3a13-d6ce-4cd9-e88d-aa892f5c6491"
      },
      "execution_count": null,
      "outputs": [
        {
          "output_type": "stream",
          "name": "stdout",
          "text": [
            "Warning: Your Kaggle API key is readable by other users on this system! To fix this, you can run 'chmod 600 /root/.kaggle/kaggle.json'\n",
            "Dataset URL: https://www.kaggle.com/datasets/drscarlat/melanoma\n",
            "License(s): unknown\n",
            "Downloading melanoma.zip to /content\n",
            "100% 5.26G/5.26G [01:01<00:00, 118MB/s] \n",
            "100% 5.26G/5.26G [01:01<00:00, 91.3MB/s]\n"
          ]
        }
      ]
    },
    {
      "cell_type": "code",
      "source": [
        "# prompt: code for unziping file\n",
        "import zipfile\n",
        "zip_ref=zipfile.ZipFile('/content/melanoma.zip','r')\n",
        "zip_ref.extractall('/content')\n",
        "zip_ref.close()"
      ],
      "metadata": {
        "id": "LygmPJjnByfY"
      },
      "execution_count": null,
      "outputs": []
    },
    {
      "cell_type": "code",
      "source": [
        "import tensorflow as tf\n",
        "from tensorflow.keras.preprocessing.image import ImageDataGenerator\n",
        "from tensorflow.keras.applications import DenseNet121\n",
        "from tensorflow.keras.layers import Dense, GlobalAveragePooling2D\n",
        "from tensorflow.keras.models import Model\n",
        "from tensorflow.keras.optimizers import Adam\n",
        "from tensorflow.keras.callbacks import EarlyStopping, ModelCheckpoint"
      ],
      "metadata": {
        "id": "xOcfOJB3Atg3"
      },
      "execution_count": null,
      "outputs": []
    },
    {
      "cell_type": "code",
      "source": [
        "# Directories for the dataset\n",
        "train_dir = '/content/DermMel/train_sep'\n",
        "test_dir = '/content/DermMel/test'\n",
        "\n",
        "# Parameters\n",
        "img_size = (224, 224)  # Image size to resize (224x224 for DenseNet)\n",
        "batch_size = 32\n",
        "epochs = 20\n",
        "learning_rate = 0.0001\n",
        "num_classes = 2  # Adjust based on the number of classes (2 for benign/malignant)\n"
      ],
      "metadata": {
        "id": "BtAzIv2sAyDG"
      },
      "execution_count": null,
      "outputs": []
    },
    {
      "cell_type": "code",
      "source": [
        "import os\n",
        "import shutil\n",
        "\n",
        "# Function to remove .ipynb_checkpoints folder from a directory\n",
        "def remove_checkpoints(directory):\n",
        "    for root, dirs, files in os.walk(directory):\n",
        "        if '.ipynb_checkpoints' in dirs:\n",
        "            # Remove the folder\n",
        "            shutil.rmtree(os.path.join(root, '.ipynb_checkpoints'))\n",
        "            print(f\"Removed: {os.path.join(root, '.ipynb_checkpoints')}\")\n",
        "\n",
        "# Paths to your train and test directories\n",
        "train_dir = '/content/DermMel/train_sep'\n",
        "test_dir = '/content/DermMel/test'\n",
        "\n",
        "# Remove .ipynb_checkpoints from both directories\n",
        "remove_checkpoints(train_dir)\n",
        "remove_checkpoints(test_dir)"
      ],
      "metadata": {
        "colab": {
          "base_uri": "https://localhost:8080/"
        },
        "id": "e5I0fBrryyn3",
        "outputId": "860089cc-c569-4a72-adf9-abc317f2c390"
      },
      "execution_count": null,
      "outputs": [
        {
          "output_type": "stream",
          "name": "stdout",
          "text": [
            "Removed: /content/DermMel/train_sep/.ipynb_checkpoints\n",
            "Removed: /content/DermMel/test/.ipynb_checkpoints\n"
          ]
        }
      ]
    },
    {
      "cell_type": "code",
      "source": [
        "# Data augmentation and preprocessing for training\n",
        "train_datagen = ImageDataGenerator(\n",
        "    rescale=1./255,  # Normalize images\n",
        "    rotation_range=30,\n",
        "    width_shift_range=0.2,\n",
        "    height_shift_range=0.2,\n",
        "    shear_range=0.2,\n",
        "    zoom_range=0.2,\n",
        "    horizontal_flip=True,\n",
        "    fill_mode='nearest'\n",
        ")\n",
        "\n",
        "# Preprocessing for validation/testing (no augmentation, only rescaling)\n",
        "test_datagen = ImageDataGenerator(rescale=1./255)\n",
        "\n",
        "# Load training data\n",
        "train_generator = train_datagen.flow_from_directory(\n",
        "    train_dir,\n",
        "    target_size=img_size,\n",
        "    batch_size=batch_size,\n",
        "    class_mode='binary'  # Use 'categorical' for multi-class classification\n",
        ")\n",
        "\n",
        "# Load testing data\n",
        "test_generator = test_datagen.flow_from_directory(\n",
        "    test_dir,\n",
        "    target_size=img_size,\n",
        "    batch_size=batch_size,\n",
        "    class_mode='binary'\n",
        ")\n",
        "\n",
        "\n"
      ],
      "metadata": {
        "colab": {
          "base_uri": "https://localhost:8080/"
        },
        "id": "3vGIhUCYA2Ok",
        "outputId": "a08d6aae-5d39-4208-bf04-1b12eba3d778"
      },
      "execution_count": null,
      "outputs": [
        {
          "output_type": "stream",
          "name": "stdout",
          "text": [
            "Found 10682 images belonging to 2 classes.\n",
            "Found 3561 images belonging to 2 classes.\n"
          ]
        }
      ]
    },
    {
      "cell_type": "code",
      "source": [
        "# Load the pre-trained DenseNet121 model without the top classification layer\n",
        "base_model = DenseNet121(weights='imagenet', include_top=False, input_shape=(224, 224, 3))\n",
        "\n",
        "# Freeze the base model's layers to prevent training them initially\n",
        "base_model.trainable = False\n",
        "\n",
        "# Add custom layers on top of DenseNet\n",
        "x = base_model.output\n",
        "x = GlobalAveragePooling2D()(x)  # Global pooling layer\n",
        "x = Dense(128, activation='relu')(x)  # Fully connected layer\n",
        "predictions = Dense(1, activation='sigmoid')(x)\n",
        "\n",
        "# Create the full model\n",
        "model = Model(inputs=base_model.input, outputs=predictions)"
      ],
      "metadata": {
        "colab": {
          "base_uri": "https://localhost:8080/"
        },
        "id": "vnjI9PuwA5xo",
        "outputId": "89f5dc93-0f81-4985-f331-9d240585b8f7"
      },
      "execution_count": null,
      "outputs": [
        {
          "output_type": "stream",
          "name": "stdout",
          "text": [
            "Downloading data from https://storage.googleapis.com/tensorflow/keras-applications/densenet/densenet121_weights_tf_dim_ordering_tf_kernels_notop.h5\n",
            "\u001b[1m29084464/29084464\u001b[0m \u001b[32m━━━━━━━━━━━━━━━━━━━━\u001b[0m\u001b[37m\u001b[0m \u001b[1m1s\u001b[0m 0us/step\n"
          ]
        }
      ]
    },
    {
      "cell_type": "code",
      "source": [
        "model.compile(optimizer=Adam(learning_rate=learning_rate),\n",
        "              loss='binary_crossentropy',\n",
        "              metrics=['accuracy'])"
      ],
      "metadata": {
        "id": "2a9kh-zFA9tQ"
      },
      "execution_count": null,
      "outputs": []
    },
    {
      "cell_type": "code",
      "source": [
        "\n"
      ],
      "metadata": {
        "id": "6F3ptwcrBATw"
      },
      "execution_count": null,
      "outputs": []
    },
    {
      "cell_type": "code",
      "source": [
        "# Train the model\n",
        "history = model.fit(\n",
        "    train_generator,\n",
        "    epochs=epochs,\n",
        "    validation_data=test_generator,\n",
        "\n",
        ")\n"
      ],
      "metadata": {
        "colab": {
          "base_uri": "https://localhost:8080/"
        },
        "id": "g6HtMmKaBClA",
        "outputId": "5cd029fb-1b26-4192-bb77-f9ebc0104cb7"
      },
      "execution_count": null,
      "outputs": [
        {
          "output_type": "stream",
          "name": "stdout",
          "text": [
            "Epoch 1/20\n"
          ]
        },
        {
          "output_type": "stream",
          "name": "stderr",
          "text": [
            "/usr/local/lib/python3.10/dist-packages/keras/src/trainers/data_adapters/py_dataset_adapter.py:121: UserWarning: Your `PyDataset` class should call `super().__init__(**kwargs)` in its constructor. `**kwargs` can include `workers`, `use_multiprocessing`, `max_queue_size`. Do not pass these arguments to `fit()`, as they will be ignored.\n",
            "  self._warn_if_super_not_called()\n"
          ]
        },
        {
          "output_type": "stream",
          "name": "stdout",
          "text": [
            "\u001b[1m334/334\u001b[0m \u001b[32m━━━━━━━━━━━━━━━━━━━━\u001b[0m\u001b[37m\u001b[0m \u001b[1m274s\u001b[0m 716ms/step - accuracy: 0.7673 - loss: 0.4951 - val_accuracy: 0.9219 - val_loss: 0.2687\n",
            "Epoch 2/20\n",
            "\u001b[1m334/334\u001b[0m \u001b[32m━━━━━━━━━━━━━━━━━━━━\u001b[0m\u001b[37m\u001b[0m \u001b[1m193s\u001b[0m 560ms/step - accuracy: 0.9141 - loss: 0.2488 - val_accuracy: 0.9275 - val_loss: 0.2594\n",
            "Epoch 3/20\n",
            "\u001b[1m334/334\u001b[0m \u001b[32m━━━━━━━━━━━━━━━━━━━━\u001b[0m\u001b[37m\u001b[0m \u001b[1m189s\u001b[0m 556ms/step - accuracy: 0.9186 - loss: 0.2146 - val_accuracy: 0.9304 - val_loss: 0.2126\n",
            "Epoch 4/20\n",
            "\u001b[1m334/334\u001b[0m \u001b[32m━━━━━━━━━━━━━━━━━━━━\u001b[0m\u001b[37m\u001b[0m \u001b[1m187s\u001b[0m 547ms/step - accuracy: 0.9296 - loss: 0.1969 - val_accuracy: 0.9318 - val_loss: 0.2223\n",
            "Epoch 5/20\n",
            "\u001b[1m334/334\u001b[0m \u001b[32m━━━━━━━━━━━━━━━━━━━━\u001b[0m\u001b[37m\u001b[0m \u001b[1m200s\u001b[0m 546ms/step - accuracy: 0.9331 - loss: 0.1819 - val_accuracy: 0.9318 - val_loss: 0.2172\n",
            "Epoch 6/20\n",
            "\u001b[1m334/334\u001b[0m \u001b[32m━━━━━━━━━━━━━━━━━━━━\u001b[0m\u001b[37m\u001b[0m \u001b[1m202s\u001b[0m 542ms/step - accuracy: 0.9293 - loss: 0.1903 - val_accuracy: 0.9326 - val_loss: 0.2143\n",
            "Epoch 7/20\n",
            "\u001b[1m334/334\u001b[0m \u001b[32m━━━━━━━━━━━━━━━━━━━━\u001b[0m\u001b[37m\u001b[0m \u001b[1m186s\u001b[0m 545ms/step - accuracy: 0.9200 - loss: 0.1989 - val_accuracy: 0.9318 - val_loss: 0.2199\n",
            "Epoch 8/20\n",
            "\u001b[1m334/334\u001b[0m \u001b[32m━━━━━━━━━━━━━━━━━━━━\u001b[0m\u001b[37m\u001b[0m \u001b[1m186s\u001b[0m 548ms/step - accuracy: 0.9355 - loss: 0.1804 - val_accuracy: 0.9306 - val_loss: 0.1996\n",
            "Epoch 9/20\n",
            "\u001b[1m334/334\u001b[0m \u001b[32m━━━━━━━━━━━━━━━━━━━━\u001b[0m\u001b[37m\u001b[0m \u001b[1m201s\u001b[0m 547ms/step - accuracy: 0.9287 - loss: 0.1813 - val_accuracy: 0.9315 - val_loss: 0.2032\n",
            "Epoch 10/20\n",
            "\u001b[1m334/334\u001b[0m \u001b[32m━━━━━━━━━━━━━━━━━━━━\u001b[0m\u001b[37m\u001b[0m \u001b[1m183s\u001b[0m 540ms/step - accuracy: 0.9338 - loss: 0.1711 - val_accuracy: 0.9323 - val_loss: 0.2111\n",
            "Epoch 11/20\n",
            "\u001b[1m334/334\u001b[0m \u001b[32m━━━━━━━━━━━━━━━━━━━━\u001b[0m\u001b[37m\u001b[0m \u001b[1m183s\u001b[0m 541ms/step - accuracy: 0.9380 - loss: 0.1682 - val_accuracy: 0.9312 - val_loss: 0.1978\n",
            "Epoch 12/20\n",
            "\u001b[1m334/334\u001b[0m \u001b[32m━━━━━━━━━━━━━━━━━━━━\u001b[0m\u001b[37m\u001b[0m \u001b[1m182s\u001b[0m 537ms/step - accuracy: 0.9377 - loss: 0.1681 - val_accuracy: 0.9312 - val_loss: 0.1953\n",
            "Epoch 13/20\n",
            "\u001b[1m334/334\u001b[0m \u001b[32m━━━━━━━━━━━━━━━━━━━━\u001b[0m\u001b[37m\u001b[0m \u001b[1m183s\u001b[0m 540ms/step - accuracy: 0.9331 - loss: 0.1709 - val_accuracy: 0.9320 - val_loss: 0.2148\n",
            "Epoch 14/20\n",
            "\u001b[1m334/334\u001b[0m \u001b[32m━━━━━━━━━━━━━━━━━━━━\u001b[0m\u001b[37m\u001b[0m \u001b[1m185s\u001b[0m 546ms/step - accuracy: 0.9366 - loss: 0.1648 - val_accuracy: 0.9315 - val_loss: 0.1855\n",
            "Epoch 15/20\n",
            "\u001b[1m334/334\u001b[0m \u001b[32m━━━━━━━━━━━━━━━━━━━━\u001b[0m\u001b[37m\u001b[0m \u001b[1m201s\u001b[0m 543ms/step - accuracy: 0.9360 - loss: 0.1594 - val_accuracy: 0.9332 - val_loss: 0.1952\n",
            "Epoch 16/20\n",
            "\u001b[1m334/334\u001b[0m \u001b[32m━━━━━━━━━━━━━━━━━━━━\u001b[0m\u001b[37m\u001b[0m \u001b[1m185s\u001b[0m 546ms/step - accuracy: 0.9385 - loss: 0.1609 - val_accuracy: 0.9332 - val_loss: 0.2049\n",
            "Epoch 17/20\n",
            "\u001b[1m334/334\u001b[0m \u001b[32m━━━━━━━━━━━━━━━━━━━━\u001b[0m\u001b[37m\u001b[0m \u001b[1m186s\u001b[0m 548ms/step - accuracy: 0.9373 - loss: 0.1655 - val_accuracy: 0.9343 - val_loss: 0.1828\n",
            "Epoch 18/20\n",
            "\u001b[1m334/334\u001b[0m \u001b[32m━━━━━━━━━━━━━━━━━━━━\u001b[0m\u001b[37m\u001b[0m \u001b[1m203s\u001b[0m 550ms/step - accuracy: 0.9380 - loss: 0.1584 - val_accuracy: 0.9334 - val_loss: 0.2092\n",
            "Epoch 19/20\n",
            "\u001b[1m334/334\u001b[0m \u001b[32m━━━━━━━━━━━━━━━━━━━━\u001b[0m\u001b[37m\u001b[0m \u001b[1m203s\u001b[0m 555ms/step - accuracy: 0.9349 - loss: 0.1621 - val_accuracy: 0.9351 - val_loss: 0.1894\n",
            "Epoch 20/20\n",
            "\u001b[1m334/334\u001b[0m \u001b[32m━━━━━━━━━━━━━━━━━━━━\u001b[0m\u001b[37m\u001b[0m \u001b[1m186s\u001b[0m 547ms/step - accuracy: 0.9394 - loss: 0.1556 - val_accuracy: 0.9304 - val_loss: 0.1774\n"
          ]
        }
      ]
    },
    {
      "cell_type": "code",
      "source": [
        "import matplotlib.pyplot as plt\n",
        "# Plot training & validation accuracy values\n",
        "plt.figure(figsize=(12, 4))\n",
        "plt.subplot(1, 2, 1)\n",
        "plt.plot(history.history['accuracy'])\n",
        "plt.plot(history.history['val_accuracy'])\n",
        "plt.title('Model accuracy')\n",
        "plt.xlabel('Epoch')\n",
        "plt.ylabel('Accuracy')\n",
        "plt.legend(['Train', 'Validation'], loc='upper left')\n",
        "\n",
        "# Plot training & validation loss values\n",
        "plt.subplot(1, 2, 2)\n",
        "plt.plot(history.history['loss'])\n",
        "plt.plot(history.history['val_loss'])\n",
        "plt.title('Model loss')\n",
        "plt.xlabel('Epoch')\n",
        "plt.ylabel('Loss')\n",
        "plt.legend(['Train', 'Validation'], loc='upper left')\n",
        "\n",
        "plt.show()"
      ],
      "metadata": {
        "colab": {
          "base_uri": "https://localhost:8080/",
          "height": 305
        },
        "id": "c7uCEEFijVJW",
        "outputId": "1c61439d-3179-4c29-fac4-4498377e0cd6"
      },
      "execution_count": null,
      "outputs": [
        {
          "output_type": "display_data",
          "data": {
            "text/plain": [
              "<Figure size 1200x400 with 2 Axes>"
            ],
            "image/png": "[encoded data removed]"
          },
          "metadata": {}
        }
      ]
    },
    {
      "cell_type": "code",
      "source": [
        "# Evaluate the model on the test set\n",
        "test_loss, test_accuracy = model.evaluate(test_generator)\n",
        "print(f'Test Loss: {test_loss}')\n",
        "print(f'Test Accuracy: {test_accuracy}')"
      ],
      "metadata": {
        "id": "lVJ9fz12TZuU",
        "colab": {
          "base_uri": "https://localhost:8080/"
        },
        "outputId": "a9680f04-5dee-4e97-cd9d-96e4a8777937"
      },
      "execution_count": null,
      "outputs": [
        {
          "output_type": "stream",
          "name": "stdout",
          "text": [
            "\u001b[1m112/112\u001b[0m \u001b[32m━━━━━━━━━━━━━━━━━━━━\u001b[0m\u001b[37m\u001b[0m \u001b[1m26s\u001b[0m 232ms/step - accuracy: 0.9323 - loss: 0.1769\n",
            "Test Loss: 0.17739443480968475\n",
            "Test Accuracy: 0.9303566217422485\n"
          ]
        }
      ]
    },
    {
      "cell_type": "code",
      "source": [
        "model.save('DenseNet-121.h5')"
      ],
      "metadata": {
        "colab": {
          "base_uri": "https://localhost:8080/"
        },
        "id": "yOLIw8oACIyX",
        "outputId": "cccd390c-fe73-44f2-fc9b-7a792598dd5b"
      },
      "execution_count": null,
      "outputs": [
        {
          "output_type": "stream",
          "name": "stderr",
          "text": [
            "WARNING:absl:You are saving your model as an HDF5 file via `model.save()` or `keras.saving.save_model(model)`. This file format is considered legacy. We recommend using instead the native Keras format, e.g. `model.save('my_model.keras')` or `keras.saving.save_model(model, 'my_model.keras')`. \n"
          ]
        }
      ]
    },
    {
      "cell_type": "code",
      "source": [
        "\n",
        "import mlxtend"
      ],
      "metadata": {
        "id": "OFEqbYDGBGX5"
      },
      "execution_count": null,
      "outputs": []
    },
    {
      "cell_type": "code",
      "source": [
        "\n"
      ],
      "metadata": {
        "id": "S7SzY-kvBNj3"
      },
      "execution_count": null,
      "outputs": []
    }
  ]
}